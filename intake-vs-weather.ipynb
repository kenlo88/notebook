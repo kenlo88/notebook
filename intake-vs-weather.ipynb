{
 "cells": [
  {
   "cell_type": "markdown",
   "metadata": {},
   "source": [
    "## Intake vs Weather Model"
   ]
  },
  {
   "cell_type": "code",
   "execution_count": 9,
   "metadata": {},
   "outputs": [],
   "source": [
    "from semopy import Model\n",
    "mod = \"iweight ~ rainfall + temperature + humidity\"\n",
    "model = Model(mod)"
   ]
  },
  {
   "cell_type": "code",
   "execution_count": 10,
   "metadata": {},
   "outputs": [],
   "source": [
    "from pandas import read_csv\n",
    "data = read_csv(\"data.csv\", index_col=0)\n",
    "model.load_dataset(data)"
   ]
  },
  {
   "cell_type": "code",
   "execution_count": 11,
   "metadata": {},
   "outputs": [],
   "source": [
    "from semopy import Optimizer\n",
    "opt = Optimizer(model)\n",
    "objective_function_value = opt.optimize()"
   ]
  },
  {
   "cell_type": "code",
   "execution_count": 12,
   "metadata": {},
   "outputs": [
    {
     "data": {
      "text/html": [
       "<div>\n",
       "<style scoped>\n",
       "    .dataframe tbody tr th:only-of-type {\n",
       "        vertical-align: middle;\n",
       "    }\n",
       "\n",
       "    .dataframe tbody tr th {\n",
       "        vertical-align: top;\n",
       "    }\n",
       "\n",
       "    .dataframe thead th {\n",
       "        text-align: right;\n",
       "    }\n",
       "</style>\n",
       "<table border=\"1\" class=\"dataframe\">\n",
       "  <thead>\n",
       "    <tr style=\"text-align: right;\">\n",
       "      <th></th>\n",
       "      <th>lval</th>\n",
       "      <th>op</th>\n",
       "      <th>rval</th>\n",
       "      <th>Value</th>\n",
       "      <th>SE</th>\n",
       "      <th>Z-score</th>\n",
       "      <th>P-value</th>\n",
       "    </tr>\n",
       "  </thead>\n",
       "  <tbody>\n",
       "    <tr>\n",
       "      <td>0</td>\n",
       "      <td>iweight</td>\n",
       "      <td>~</td>\n",
       "      <td>humidity</td>\n",
       "      <td>8.322976e+01</td>\n",
       "      <td>3.453200e+01</td>\n",
       "      <td>2.410222</td>\n",
       "      <td>0.015943</td>\n",
       "    </tr>\n",
       "    <tr>\n",
       "      <td>1</td>\n",
       "      <td>iweight</td>\n",
       "      <td>~</td>\n",
       "      <td>rainfall</td>\n",
       "      <td>-3.480014e+01</td>\n",
       "      <td>1.899409e+01</td>\n",
       "      <td>-1.832156</td>\n",
       "      <td>0.066928</td>\n",
       "    </tr>\n",
       "    <tr>\n",
       "      <td>2</td>\n",
       "      <td>iweight</td>\n",
       "      <td>~</td>\n",
       "      <td>temperature</td>\n",
       "      <td>3.868570e+01</td>\n",
       "      <td>6.565746e+01</td>\n",
       "      <td>0.589205</td>\n",
       "      <td>0.555724</td>\n",
       "    </tr>\n",
       "    <tr>\n",
       "      <td>3</td>\n",
       "      <td>iweight</td>\n",
       "      <td>~~</td>\n",
       "      <td>iweight</td>\n",
       "      <td>3.594815e+07</td>\n",
       "      <td>2.448797e+06</td>\n",
       "      <td>14.679918</td>\n",
       "      <td>0.000000</td>\n",
       "    </tr>\n",
       "  </tbody>\n",
       "</table>\n",
       "</div>"
      ],
      "text/plain": [
       "      lval  op         rval         Value            SE    Z-score   P-value\n",
       "0  iweight   ~     humidity  8.322976e+01  3.453200e+01   2.410222  0.015943\n",
       "1  iweight   ~     rainfall -3.480014e+01  1.899409e+01  -1.832156  0.066928\n",
       "2  iweight   ~  temperature  3.868570e+01  6.565746e+01   0.589205  0.555724\n",
       "3  iweight  ~~      iweight  3.594815e+07  2.448797e+06  14.679918  0.000000"
      ]
     },
     "execution_count": 12,
     "metadata": {},
     "output_type": "execute_result"
    }
   ],
   "source": [
    "from semopy import inspect\n",
    "inspect(opt)"
   ]
  },
  {
   "cell_type": "code",
   "execution_count": null,
   "metadata": {},
   "outputs": [],
   "source": []
  }
 ],
 "metadata": {
  "kernelspec": {
   "display_name": "Python 3",
   "language": "python",
   "name": "python3"
  },
  "language_info": {
   "codemirror_mode": {
    "name": "ipython",
    "version": 3
   },
   "file_extension": ".py",
   "mimetype": "text/x-python",
   "name": "python",
   "nbconvert_exporter": "python",
   "pygments_lexer": "ipython3",
   "version": "3.7.4"
  }
 },
 "nbformat": 4,
 "nbformat_minor": 2
}
