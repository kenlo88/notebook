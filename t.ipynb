{
 "cells": [
  {
   "cell_type": "markdown",
   "metadata": {},
   "source": [
    "## Intake vs Weather Model"
   ]
  },
  {
   "cell_type": "code",
   "execution_count": 3,
   "metadata": {}
   ],
   "source": [
    "from semopy import Model\n",
    "mod = \"iweight ~ rainfall + temperature + humidity\"\n",
    "model = Model(mod)"
   ]
  },
  {
   "cell_type": "code",
   "execution_count": 2,
   "metadata": {},
   "outputs": [],
   "source": [
    "from pandas import read_csv\n",
    "data = read_csv(\"data.csv\", index_col=0)\n",
    "model.load_dataset(data)"
   ]
  },
  {
   "cell_type": "code",
   "execution_count": 4,
   "metadata": {}
   ],
   "source": [
    "from semopy import Optimizer\n",
    "opt = Optimizer(model)\n",
    "objective_function_value = opt.optimize()"
   ]
  },
  {
   "cell_type": "code",
   "execution_count": null,
   "metadata": {},
   "outputs": [],
   "source": [
    "from semopy import inspect\n",
    "inspect(opt)"
   ]
  }
 ],
 "metadata": {
  "kernelspec": {
   "display_name": "Python 3",
   "language": "python",
   "name": "python3"
  },
  "language_info": {
   "codemirror_mode": {
    "name": "ipython",
    "version": 3
   },
   "file_extension": ".py",
   "mimetype": "text/x-python",
   "name": "python",
   "nbconvert_exporter": "python",
   "pygments_lexer": "ipython3",
   "version": "3.7.3"
  }
 },
 "nbformat": 4,
 "nbformat_minor": 2
}
